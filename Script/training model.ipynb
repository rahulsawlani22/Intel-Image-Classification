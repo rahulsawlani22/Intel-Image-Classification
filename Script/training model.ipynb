{
 "cells": [
  {
   "cell_type": "code",
   "execution_count": 1,
   "metadata": {},
   "outputs": [],
   "source": [
    "import tensorflow as tf\n",
    "from tensorflow.keras.models import Sequential\n",
    "#from tenserflow.keras.callbacks import TensorBoard\n",
    "from tensorflow.keras.layers import Dense, Conv2D, Activation, Dropout, Flatten, MaxPooling2D\n",
    "import pickle"
   ]
  },
  {
   "cell_type": "code",
   "execution_count": 2,
   "metadata": {},
   "outputs": [
    {
     "name": "stdout",
     "output_type": "stream",
     "text": [
      "(14034, 150, 150, 3)\n",
      "(14034,)\n"
     ]
    }
   ],
   "source": [
    "pickle_in=open(\"X.pickle\",\"rb\")\n",
    "x=pickle.load(pickle_in)\n",
    "pickle_in.close()\n",
    "\n",
    "pickle_in=open(\"Y.pickle\",\"rb\")\n",
    "y=pickle.load(pickle_in)\n",
    "pickle_in.close()\n",
    "x=x/255.0\n",
    "print(x.shape)\n",
    "print(y.shape)"
   ]
  },
  {
   "cell_type": "code",
   "execution_count": 3,
   "metadata": {},
   "outputs": [
    {
     "name": "stdout",
     "output_type": "stream",
     "text": [
      "Train on 14034 samples\n",
      "Epoch 1/10\n",
      "14034/14034 [==============================] - 568s 40ms/sample - loss: 1.0393 - accuracy: 0.5998\n",
      "Epoch 2/10\n",
      "14034/14034 [==============================] - 566s 40ms/sample - loss: 0.6984 - accuracy: 0.7498\n",
      "Epoch 3/10\n",
      "14034/14034 [==============================] - 546s 39ms/sample - loss: 0.5617 - accuracy: 0.8020\n",
      "Epoch 4/10\n",
      "14034/14034 [==============================] - 639s 46ms/sample - loss: 0.5033 - accuracy: 0.8227\n",
      "Epoch 5/10\n",
      "14034/14034 [==============================] - 548s 39ms/sample - loss: 0.4446 - accuracy: 0.8425\n",
      "Epoch 6/10\n",
      "14034/14034 [==============================] - 550s 39ms/sample - loss: 0.3777 - accuracy: 0.8661\n",
      "Epoch 7/10\n",
      "14034/14034 [==============================] - 548s 39ms/sample - loss: 0.3178 - accuracy: 0.8888\n",
      "Epoch 8/10\n",
      "14034/14034 [==============================] - 484s 35ms/sample - loss: 0.2622 - accuracy: 0.9096\n",
      "Epoch 9/10\n",
      "14034/14034 [==============================] - 429s 31ms/sample - loss: 0.2304 - accuracy: 0.9223\n",
      "Epoch 10/10\n",
      "14034/14034 [==============================] - 441s 31ms/sample - loss: 0.1796 - accuracy: 0.9409\n",
      "WARNING:tensorflow:From c:\\users\\sawla\\appdata\\local\\programs\\python\\python37\\lib\\site-packages\\tensorflow_core\\python\\ops\\resource_variable_ops.py:1781: calling BaseResourceVariable.__init__ (from tensorflow.python.ops.resource_variable_ops) with constraint is deprecated and will be removed in a future version.\n",
      "Instructions for updating:\n",
      "If using Keras pass *_constraint arguments to layers.\n",
      "INFO:tensorflow:Assets written to: intel-img.model\\assets\n"
     ]
    }
   ],
   "source": [
    "model=Sequential()\n",
    "model.add(Conv2D(64,(3,3),input_shape=x.shape[1:]))\n",
    "model.add(Activation(\"relu\"))\n",
    "model.add(MaxPooling2D(pool_size=(2,2)))\n",
    "\n",
    "model.add(Conv2D(64,(3,3)))\n",
    "model.add(Activation(\"relu\"))\n",
    "model.add(MaxPooling2D(pool_size=(2,2)))\n",
    "\n",
    "\n",
    "model.add(Conv2D(64,(3,3)))\n",
    "model.add(Activation(\"relu\"))\n",
    "model.add(MaxPooling2D(pool_size=(2,2)))\n",
    "\n",
    "model.add(Flatten())\n",
    "\n",
    "model.add(Dense(6))\n",
    "model.add(Activation('softmax'))\n",
    "\n",
    "model.compile(optimizer='adam',loss='sparse_categorical_crossentropy',metrics=['accuracy'])\n",
    "model.fit(x,y,epochs=10,batch_size=100)\n",
    "model.save('intel-img.model')"
   ]
  },
  {
   "cell_type": "code",
   "execution_count": null,
   "metadata": {},
   "outputs": [],
   "source": []
  }
 ],
 "metadata": {
  "kernelspec": {
   "display_name": "Python 3",
   "language": "python",
   "name": "python3"
  },
  "language_info": {
   "codemirror_mode": {
    "name": "ipython",
    "version": 3
   },
   "file_extension": ".py",
   "mimetype": "text/x-python",
   "name": "python",
   "nbconvert_exporter": "python",
   "pygments_lexer": "ipython3",
   "version": "3.7.6"
  }
 },
 "nbformat": 4,
 "nbformat_minor": 2
}
